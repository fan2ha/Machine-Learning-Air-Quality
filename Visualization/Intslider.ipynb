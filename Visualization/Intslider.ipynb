{
 "cells": [
  {
   "source": [
    "### This script is an example of Jupyter Notebook interactive web tools. It only functions on web-based local servers, not available on other IDEs"
   ],
   "cell_type": "markdown",
   "metadata": {}
  },
  {
   "cell_type": "code",
   "execution_count": null,
   "metadata": {},
   "outputs": [],
   "source": [
    "from ipywidgets import HTML\n",
    "from ipywidgets import IntSlider\n",
    "\n",
    "slider = IntSlider(value = 0, min = 0, max=10)\n",
    "\n",
    "text = HTML(\"The slider's value is <b>{}</b>\".format(slider.value))\n",
    "text"
   ]
  },
  {
   "cell_type": "code",
   "execution_count": null,
   "metadata": {},
   "outputs": [],
   "source": []
  }
 ],
 "metadata": {
  "kernelspec": {
   "display_name": "Python 3",
   "language": "python",
   "name": "python3"
  },
  "language_info": {
   "codemirror_mode": {
    "name": "ipython",
    "version": 3
   },
   "file_extension": ".py",
   "mimetype": "text/x-python",
   "name": "python",
   "nbconvert_exporter": "python",
   "pygments_lexer": "ipython3",
   "version": "3.8.5-final"
  }
 },
 "nbformat": 4,
 "nbformat_minor": 4
}