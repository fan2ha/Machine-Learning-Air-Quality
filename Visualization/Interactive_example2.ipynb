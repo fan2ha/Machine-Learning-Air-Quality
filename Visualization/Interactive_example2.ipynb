{
 "cells": [
  {
   "source": [
    "### Another example using ipywidgets for interactions"
   ],
   "cell_type": "markdown",
   "metadata": {}
  },
  {
   "cell_type": "code",
   "execution_count": null,
   "metadata": {},
   "outputs": [],
   "source": [
    "%matplotlib inline\n",
    "import numpy as np\n",
    "import matplotlib.pyplot as plt\n",
    "from ipywidgets import interactive\n",
    "import seaborn as sb"
   ]
  },
  {
   "cell_type": "code",
   "execution_count": null,
   "metadata": {},
   "outputs": [],
   "source": [
    "x = np.linspace(0, 10, 100)\n",
    "y = np.linspace(0, 10, 100)\n",
    "\n",
    "x,y = np.meshgrid(x,y)\n",
    "\n",
    "def f(A,B,C,D):\n",
    "    return D*np.sin(C*np.sqrt(A**2+B**2))\n",
    "\n",
    "def f2(A,B,C,D):\n",
    "    return D*np.exp(C*np.sqrt(A**2+B**2))\n",
    "\n",
    "def plotting(C=1,D=1):\n",
    "    z = f(x,y,C,D)\n",
    "    ax = sb.heatmap(z)\n",
    "    ax.invert_yaxis()\n",
    "    \n",
    "def plotting2(C=1,D=1):\n",
    "    z = f2(x,y,C,D)\n",
    "    ax = sb.heatmap(z)\n",
    "    ax.invert_yaxis()\n",
    "\n",
    "interactive_plot = interactive(plotting,C=(0,10,0.1),D=(1,10,0.1))\n",
    "# interactive_plot2 = interactive(plotting2,C=(0,10,0.1),D=(1,10,0.1))\n",
    "interactive_plot\n",
    "# interactive_plot2"
   ]
  },
  {
   "cell_type": "code",
   "execution_count": null,
   "metadata": {},
   "outputs": [],
   "source": [
    "interactive_plot2 = interactive(plotting2,C=(0,10,0.1),D=(1,10,0.1))\n",
    "interactive_plot2"
   ]
  },
  {
   "cell_type": "code",
   "execution_count": null,
   "metadata": {},
   "outputs": [],
   "source": [
    "interactive_plot2.savefig('plot.png')"
   ]
  },
  {
   "cell_type": "code",
   "execution_count": null,
   "metadata": {},
   "outputs": [],
   "source": []
  }
 ],
 "metadata": {
  "kernelspec": {
   "display_name": "Python 3",
   "language": "python",
   "name": "python3"
  },
  "language_info": {
   "codemirror_mode": {
    "name": "ipython",
    "version": 3
   },
   "file_extension": ".py",
   "mimetype": "text/x-python",
   "name": "python",
   "nbconvert_exporter": "python",
   "pygments_lexer": "ipython3",
   "version": "3.8.3"
  }
 },
 "nbformat": 4,
 "nbformat_minor": 4
}