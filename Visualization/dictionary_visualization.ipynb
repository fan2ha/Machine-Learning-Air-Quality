{
 "cells": [
  {
   "cell_type": "code",
   "execution_count": null,
   "metadata": {},
   "outputs": [],
   "source": [
    "import netCDF4\n",
    "import matplotlib\n",
    "import matplotlib.pyplot as plt\n",
    "import seaborn as sns\n",
    "%matplotlib inline\n",
    "sns.set()\n",
    "import numpy as np\n",
    "import math\n",
    "import csv\n",
    "import os\n",
    "from tqdm import tqdm_notebook as tqdm\n",
    "from keras_tqdm import TQDMNotebookCallback\n",
    "from ipywidgets import interactive\n",
    "from ipywidgets import interact\n",
    "import ipywidgets as widgets"
   ]
  },
  {
   "cell_type": "code",
   "execution_count": null,
   "metadata": {},
   "outputs": [],
   "source": [
    "def get_file_list(data_dir):\n",
    "    return [os.path.join(data_dir, name) for name in os.listdir(data_dir)]\n",
    "\n",
    "\n",
    "aq_dir='C:/Users/woshi/Desktop/CE_675_Project/Data/aq_conc/'\n",
    "emis_dir='C:/Users/woshi/Desktop/CE_675_Project/Data/emis_data/'\n",
    "met_dir='C:/Users/woshi/Desktop/CE_675_Project/Data/met_data/'\n",
    "\n",
    "aq_files = get_file_list(aq_dir)\n",
    "emis_files = get_file_list(emis_dir)\n",
    "met_files = get_file_list(met_dir)"
   ]
  },
  {
   "cell_type": "code",
   "execution_count": null,
   "metadata": {},
   "outputs": [],
   "source": [
    "def plot_aq(aq_data, emis_data, day_of_yr, hr_of_day):\n",
    "    o3ex = aq_data[hr_of_day-1][0]\n",
    "    noex = aq_data[hr_of_day-1][0]\n",
    "\n",
    "    # set canvas\n",
    "    fig = plt.figure(figsize=(10,10))\n",
    "    colors = [(0.33,0.33,0.33)] + [(plt.cm.jet(i)) for i in range(1,256)]\n",
    "    new_map = matplotlib.colors.LinearSegmentedColormap.from_list('new_map', colors, N=64)\n",
    "    \n",
    "    # add the first subplot for aq(O3)\n",
    "    ax = fig.add_subplot(2,1,1)\n",
    "    i = ax.imshow(1000*o3ex, cmap=new_map, origin='lower',vmin=0, vmax=50, interpolation='bilinear')\n",
    "\n",
    "    ax.set_title('Day_of_the_year = ' + str(day_of_yr) + \"\\n\" \n",
    "                 + 'Hour_of_the_day = ' + str(hr_of_day), fontsize=16)\n",
    "    ax.set_ylabel('Y_Grid', fontsize=14)\n",
    "    ax.tick_params('both', labelsize=14)\n",
    "\n",
    "    cb = fig.colorbar(i, fraction=0.046, pad=0.04)\n",
    "    cb.set_label(label= 'Ozone concentration/ppb', size=14,)\n",
    "    cb.ax.tick_params(labelsize=14)\n",
    "    \n",
    "    # add the second subplot for emis(NO)\n",
    "    ax = fig.add_subplot(2,1,2)\n",
    "    i = ax.imshow(noex, cmap=new_map, origin='lower', vmin=0, vmax=0.1,interpolation='bilinear')\n",
    "    \n",
    "    ax.set_xlabel('X_Grid', fontsize=14)\n",
    "    ax.set_ylabel('Y_Grid', fontsize=14)\n",
    "    ax.tick_params('both', labelsize=14)\n",
    "\n",
    "    cb = fig.colorbar(i, fraction=0.046, pad=0.04)\n",
    "    cb.set_label(label= 'NO emission rate/mol*s-1', size=14,)\n",
    "    cb.ax.tick_params(labelsize=14)\n",
    "    return fig\n",
    "#     plt.show()"
   ]
  },
  {
   "cell_type": "code",
   "execution_count": null,
   "metadata": {},
   "outputs": [],
   "source": [
    "Figure_map = {}\n",
    "for i in range(1, 6, 1):\n",
    "        for j in range(1, 25, 1):\n",
    "            aq_data = netCDF4.Dataset(aq_files[i-1]) # minus one because of referring to indices of the file list\n",
    "            emis_data = netCDF4.Dataset(emis_files[i-1])\n",
    "            O3 = aq_data.variables['O3'][:]\n",
    "            NO = emis_data.variables['NO'][:]\n",
    "            \n",
    "            date_hour = (i, j)\n",
    "            Figure_map[date_hour] = plot_aq(O3, NO, i, j)"
   ]
  },
  {
   "cell_type": "code",
   "execution_count": null,
   "metadata": {},
   "outputs": [],
   "source": [
    "def get_fig(i, j):\n",
    "   return Figure_map.get((i,j))\n",
    "\n",
    "interactive_plot = interact(get_fig,\n",
    "                               i = widgets.IntSlider(1, 1, len(aq_files)), \n",
    "                               j = widgets.IntSlider(1, 1, 24))\n",
    "\n",
    "interactive_plot\n",
    "## Some reflections: the hashmap version of the this interactive plot is not much faster than the brutal force version,\n",
    "## maybe it's becasue that in the entire process fetching the figure and display it take more time than actually plot it"
   ]
  },
  {
   "cell_type": "code",
   "execution_count": null,
   "metadata": {},
   "outputs": [],
   "source": []
  }
 ],
 "metadata": {
  "kernelspec": {
   "display_name": "Python 3",
   "language": "python",
   "name": "python3"
  },
  "language_info": {
   "codemirror_mode": {
    "name": "ipython",
    "version": 3
   },
   "file_extension": ".py",
   "mimetype": "text/x-python",
   "name": "python",
   "nbconvert_exporter": "python",
   "pygments_lexer": "ipython3",
   "version": "3.8.3"
  },
  "varInspector": {
   "cols": {
    "lenName": 16,
    "lenType": 16,
    "lenVar": 40
   },
   "kernels_config": {
    "python": {
     "delete_cmd_postfix": "",
     "delete_cmd_prefix": "del ",
     "library": "var_list.py",
     "varRefreshCmd": "print(var_dic_list())"
    },
    "r": {
     "delete_cmd_postfix": ") ",
     "delete_cmd_prefix": "rm(",
     "library": "var_list.r",
     "varRefreshCmd": "cat(var_dic_list()) "
    }
   },
   "types_to_exclude": [
    "module",
    "function",
    "builtin_function_or_method",
    "instance",
    "_Feature"
   ],
   "window_display": false
  }
 },
 "nbformat": 4,
 "nbformat_minor": 4
}