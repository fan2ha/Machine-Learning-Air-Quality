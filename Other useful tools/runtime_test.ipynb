# This script can be used on different machines to test their speed
%%time
sqrt_list = [x**2 for x in range(1, 100000000, 3)]
