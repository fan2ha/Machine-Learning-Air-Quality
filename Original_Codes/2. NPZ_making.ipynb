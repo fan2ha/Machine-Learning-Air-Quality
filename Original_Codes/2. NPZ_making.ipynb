{
 "cells": [
  {
   "cell_type": "code",
   "execution_count": 1,
   "metadata": {},
   "outputs": [],
   "source": [
    "import itertools\n",
    "import netCDF4 as ncf\n",
    "import matplotlib.pyplot as plt\n",
    "import seaborn as sns\n",
    "sns.set()\n",
    "import numpy as np\n",
    "import math\n",
    "import csv\n",
    "# from tqdm import tqdm_notebook as tqdm\n",
    "# from keras_tqdm import TQDMNotebookCallback\n",
    "import os\n",
    "import random\n",
    "import glob"
   ]
  },
  {
   "cell_type": "code",
   "execution_count": 2,
   "metadata": {},
   "outputs": [],
   "source": [
    "def get_index(grid,val):\n",
    "    try:\n",
    "        return np.where(grid==val)[0][0]\n",
    "    except (TypeError,IndexError):\n",
    "            if(len(val)>1):\n",
    "                index_list=[]\n",
    "                for i in val:\n",
    "                    print(type(i))\n",
    "                    index_list.append(np.where(grid==i)[0][0])\n",
    "                return index_list\n",
    "\n",
    "loc_x = [67,58,39]\n",
    "loc_y = [165,121,171]\n",
    "grid_size_x = dx = 15\n",
    "grid_size_y = dy = 15\n",
    "\n",
    "grids_x = [np.arange(x-dx, x+dx, 1) for x in loc_x]\n",
    "grids_y = [np.arange(y-dy, y+dy, 1) for y in loc_y]\n",
    "\n",
    "all_grids_x = np.concatenate(grids_x)\n",
    "all_grids_y = np.concatenate(grids_y)\n",
    "\n",
    "all_points = list(itertools.product(all_grids_x, all_grids_y))\n",
    "\n",
    "extract_x = [point[0] for point in all_points]\n",
    "extract_y = [point[1] for point in all_points]"
   ]
  },
  {
   "cell_type": "code",
   "execution_count": 3,
   "metadata": {},
   "outputs": [],
   "source": [
    "monitors_file = 'C:/Users/woshi/Desktop/CE_675_Project/Data/loc_data/monitor_list_NC.csv'\n",
    "with open(monitors_file) as csvfile:\n",
    "    reader = csv.DictReader(csvfile)\n",
    "    monitor_points = [(int(float(row['Col'])), int(float(row['Row'] ))) for row in reader if row['Col']] \n",
    "\n",
    "monitors_x, monitors_y = zip(*monitor_points)\n",
    "all_grids_x=np.concatenate([all_grids_x,monitors_x])\n",
    "all_grids_y=np.concatenate([all_grids_y,monitors_y])"
   ]
  },
  {
   "cell_type": "code",
   "execution_count": 5,
   "metadata": {},
   "outputs": [],
   "source": [
    "met_dir='C:/Users/woshi/Desktop/CE_675_Project/Data/met_data/'\n",
    "emis_dir='C:/Users/woshi/Desktop/CE_675_Project/Data/emis_data/'\n",
    "aq_dir='C:/Users/woshi/Desktop/CE_675_Project/Data/aq_conc/'\n",
    "short_dir='C:/Users/woshi/Desktop/CE_675_Project/Data/short_data/'\n",
    "\n",
    "def get_file_list(data_dir):\n",
    "    return [os.path.join(data_dir, name) for name in os.listdir(data_dir)]\n",
    "\n",
    "emis_files = get_file_list(emis_dir)\n",
    "met_files = get_file_list(met_dir)\n",
    "aq_files = get_file_list(aq_dir)"
   ]
  },
  {
   "cell_type": "code",
   "execution_count": 6,
   "metadata": {},
   "outputs": [],
   "source": [
    "emis=['NO', 'NO2']\n",
    "met=['PBL', 'Q2', 'TEMP2', 'WSPD10', 'WDIR10']\n",
    "no_of_files=len(met_files)\n",
    "\n",
    "def create_npz(file,var):\n",
    "        data_ext=file[var][:,0,all_grids_x,all_grids_y]\n",
    "        return data_ext\n",
    "\n",
    "for i in range(no_of_files):\n",
    "    emis_file=ncf.Dataset(emis_files[i])\n",
    "    met_file=ncf.Dataset(met_files[i])\n",
    "    aq_file=ncf.Dataset(aq_files[i])\n",
    "    outfile= short_dir+str(i+1)+'.npz'\n",
    "    time=np.arange(0,25,1,dtype=np.int64)\n",
    "    time_aq=np.arange(0,24,1,dtype=np.int64)\n",
    "    \n",
    "    np.savez(outfile, NO=create_npz(emis_file,'NO'),NO2=create_npz(emis_file,'NO2'),PBL=create_npz(met_file,'PBL')\n",
    "            ,Q2=create_npz(met_file,'Q2'),TEMP2=create_npz(met_file,'TEMP2'),WSPD10=create_npz(met_file,'WSPD10')\n",
    "            ,WDIR10=create_npz(met_file,'WDIR10'),O3=create_npz(aq_file,'O3'))\n",
    "short_files = get_file_list(short_dir)"
   ]
  },
  {
   "cell_type": "code",
   "execution_count": 7,
   "metadata": {},
   "outputs": [],
   "source": [
    "#accessing a value\n",
    "file_npz=np.load(short_files[0])\n",
    "file_met=ncf.Dataset(met_files[0])"
   ]
  },
  {
   "cell_type": "code",
   "execution_count": 8,
   "metadata": {},
   "outputs": [
    {
     "name": "stdout",
     "output_type": "stream",
     "text": [
      "<class 'int'>\n",
      "<class 'int'>\n",
      "<class 'int'>\n",
      "<class 'int'>\n",
      "<class 'int'>\n",
      "<class 'int'>\n",
      "<class 'int'>\n",
      "<class 'int'>\n",
      "<class 'int'>\n",
      "<class 'int'>\n",
      "<class 'int'>\n",
      "<class 'int'>\n",
      "<class 'int'>\n",
      "<class 'int'>\n",
      "<class 'int'>\n",
      "<class 'int'>\n",
      "<class 'int'>\n",
      "<class 'int'>\n",
      "<class 'int'>\n",
      "<class 'int'>\n",
      "<class 'int'>\n",
      "<class 'int'>\n",
      "<class 'int'>\n",
      "<class 'int'>\n",
      "<class 'int'>\n",
      "<class 'int'>\n",
      "<class 'int'>\n",
      "<class 'int'>\n",
      "<class 'int'>\n",
      "<class 'int'>\n",
      "<class 'int'>\n",
      "<class 'int'>\n",
      "<class 'int'>\n",
      "<class 'int'>\n",
      "<class 'int'>\n",
      "<class 'int'>\n",
      "<class 'int'>\n",
      "<class 'int'>\n",
      "<class 'int'>\n",
      "<class 'int'>\n",
      "<class 'int'>\n",
      "<class 'int'>\n",
      "<class 'int'>\n",
      "<class 'int'>\n",
      "<class 'int'>\n",
      "<class 'int'>\n",
      "<class 'int'>\n",
      "<class 'int'>\n",
      "<class 'int'>\n",
      "<class 'int'>\n",
      "<class 'int'>\n",
      "<class 'int'>\n",
      "<class 'int'>\n",
      "<class 'int'>\n",
      "<class 'int'>\n",
      "<class 'int'>\n",
      "<class 'int'>\n",
      "<class 'int'>\n",
      "<class 'int'>\n",
      "<class 'int'>\n",
      "<class 'int'>\n",
      "<class 'int'>\n",
      "<class 'int'>\n",
      "<class 'int'>\n",
      "<class 'int'>\n",
      "<class 'int'>\n",
      "<class 'int'>\n",
      "<class 'int'>\n",
      "<class 'int'>\n",
      "<class 'int'>\n",
      "<class 'int'>\n",
      "<class 'int'>\n",
      "<class 'int'>\n",
      "<class 'int'>\n",
      "<class 'int'>\n",
      "<class 'int'>\n",
      "<class 'int'>\n",
      "<class 'int'>\n",
      "<class 'int'>\n",
      "<class 'int'>\n"
     ]
    },
    {
     "name": "stderr",
     "output_type": "stream",
     "text": [
      "<ipython-input-3-edd9b26f1386>:3: DeprecationWarning: elementwise comparison failed; this will raise an error in the future.\n",
      "  return np.where(grid==val)[0][0]\n"
     ]
    }
   ],
   "source": [
    "### TO CHECK DATA ACCESS #####\n",
    "\n",
    "t=[2,3]\n",
    "\n",
    "data_met=file_met['TEMP2'][t][:,0,monitors_x,monitors_y]\n",
    "\n",
    "data_npz=file_npz['TEMP2'][t][:,get_index(all_grids_x,monitors_x),get_index(all_grids_y,monitors_y)]\n",
    "\n",
    "data_npz=file_npz['TEMP2'][t][:,get_index(all_grids_x,45),get_index(all_grids_y,89)]"
   ]
  },
  {
   "cell_type": "code",
   "execution_count": 25,
   "metadata": {},
   "outputs": [
    {
     "name": "stdout",
     "output_type": "stream",
     "text": [
      "<class 'netCDF4._netCDF4.Dataset'>\n",
      "root group (NETCDF3_64BIT_OFFSET data model, file format NETCDF3):\n",
      "    IOAPI_VERSION: ioapi-3.2: $Id: init3.F90 98 2018-04-05 14:35:07Z coats $                       \n",
      "    EXEC_ID: ????????????????                                                                \n",
      "    FTYPE: 1\n",
      "    CDATE: 2019192\n",
      "    CTIME: 200122\n",
      "    WDATE: 2019192\n",
      "    WTIME: 200122\n",
      "    SDATE: 2016002\n",
      "    STIME: 0\n",
      "    TSTEP: 10000\n",
      "    NTHIK: 1\n",
      "    NCOLS: 237\n",
      "    NROWS: 153\n",
      "    NLAYS: 1\n",
      "    NVARS: 67\n",
      "    GDTYP: 2\n",
      "    P_ALP: 33.0\n",
      "    P_BET: 45.0\n",
      "    P_GAM: -97.0\n",
      "    XCENT: -97.0\n",
      "    YCENT: 40.0\n",
      "    XORIG: 960000.0\n",
      "    YORIG: -660000.0\n",
      "    XCELL: 4000.0\n",
      "    YCELL: 4000.0\n",
      "    VGTYP: -1\n",
      "    VGTOP: 0.0\n",
      "    VGLVLS: [0. 0.]\n",
      "    GDNAM: 4NC3            \n",
      "    UPNAM: MRGGRID         \n",
      "    VAR-LIST: ACET            ACROLEIN        ALD2            ALD2_PRIMARY    ALDX            APIN            BENZ            BPIN            BUTADIENE13     CH4             CH4_INV         CL2             CO              CO2_INV         ETH             ETHA            ETHY            ETOH            FORM            FORM_PRIMARY    HCL             HONO            IOLE            ISOP            KET             MEOH            N2O_INV         NAPH            NH3             NH3_FERT        NO              NO2             NR              NVOL            OLE             PAL             PAR             PCA             PCL             PEC             PFE             PH2O            PK              PMC             PMG             PMN             PMOTHR          PNA             PNCOM           PNH4            PNO3            POC             PRPA            PSI             PSO4            PTI             SESQ            SO2             SOAALK          SULF            TERP            TOL             UNK             UNR             VOC_BEIS        VOC_INV         XYLMN           \n",
      "    FILEDESC: Merged emissions output file from Mrggrid                                       \n",
      "    HISTORY: \n",
      "    dimensions(sizes): TSTEP(25), DATE-TIME(2), LAY(1), VAR(67), ROW(153), COL(237)\n",
      "    variables(dimensions): int32 TFLAG(TSTEP,VAR,DATE-TIME), float32 ACET(TSTEP,LAY,ROW,COL), float32 ACROLEIN(TSTEP,LAY,ROW,COL), float32 ALD2(TSTEP,LAY,ROW,COL), float32 ALD2_PRIMARY(TSTEP,LAY,ROW,COL), float32 ALDX(TSTEP,LAY,ROW,COL), float32 APIN(TSTEP,LAY,ROW,COL), float32 BENZ(TSTEP,LAY,ROW,COL), float32 BPIN(TSTEP,LAY,ROW,COL), float32 BUTADIENE13(TSTEP,LAY,ROW,COL), float32 CH4(TSTEP,LAY,ROW,COL), float32 CH4_INV(TSTEP,LAY,ROW,COL), float32 CL2(TSTEP,LAY,ROW,COL), float32 CO(TSTEP,LAY,ROW,COL), float32 CO2_INV(TSTEP,LAY,ROW,COL), float32 ETH(TSTEP,LAY,ROW,COL), float32 ETHA(TSTEP,LAY,ROW,COL), float32 ETHY(TSTEP,LAY,ROW,COL), float32 ETOH(TSTEP,LAY,ROW,COL), float32 FORM(TSTEP,LAY,ROW,COL), float32 FORM_PRIMARY(TSTEP,LAY,ROW,COL), float32 HCL(TSTEP,LAY,ROW,COL), float32 HONO(TSTEP,LAY,ROW,COL), float32 IOLE(TSTEP,LAY,ROW,COL), float32 ISOP(TSTEP,LAY,ROW,COL), float32 KET(TSTEP,LAY,ROW,COL), float32 MEOH(TSTEP,LAY,ROW,COL), float32 N2O_INV(TSTEP,LAY,ROW,COL), float32 NAPH(TSTEP,LAY,ROW,COL), float32 NH3(TSTEP,LAY,ROW,COL), float32 NH3_FERT(TSTEP,LAY,ROW,COL), float32 NO(TSTEP,LAY,ROW,COL), float32 NO2(TSTEP,LAY,ROW,COL), float32 NR(TSTEP,LAY,ROW,COL), float32 NVOL(TSTEP,LAY,ROW,COL), float32 OLE(TSTEP,LAY,ROW,COL), float32 PAL(TSTEP,LAY,ROW,COL), float32 PAR(TSTEP,LAY,ROW,COL), float32 PCA(TSTEP,LAY,ROW,COL), float32 PCL(TSTEP,LAY,ROW,COL), float32 PEC(TSTEP,LAY,ROW,COL), float32 PFE(TSTEP,LAY,ROW,COL), float32 PH2O(TSTEP,LAY,ROW,COL), float32 PK(TSTEP,LAY,ROW,COL), float32 PMC(TSTEP,LAY,ROW,COL), float32 PMG(TSTEP,LAY,ROW,COL), float32 PMN(TSTEP,LAY,ROW,COL), float32 PMOTHR(TSTEP,LAY,ROW,COL), float32 PNA(TSTEP,LAY,ROW,COL), float32 PNCOM(TSTEP,LAY,ROW,COL), float32 PNH4(TSTEP,LAY,ROW,COL), float32 PNO3(TSTEP,LAY,ROW,COL), float32 POC(TSTEP,LAY,ROW,COL), float32 PRPA(TSTEP,LAY,ROW,COL), float32 PSI(TSTEP,LAY,ROW,COL), float32 PSO4(TSTEP,LAY,ROW,COL), float32 PTI(TSTEP,LAY,ROW,COL), float32 SESQ(TSTEP,LAY,ROW,COL), float32 SO2(TSTEP,LAY,ROW,COL), float32 SOAALK(TSTEP,LAY,ROW,COL), float32 SULF(TSTEP,LAY,ROW,COL), float32 TERP(TSTEP,LAY,ROW,COL), float32 TOL(TSTEP,LAY,ROW,COL), float32 UNK(TSTEP,LAY,ROW,COL), float32 UNR(TSTEP,LAY,ROW,COL), float32 VOC_BEIS(TSTEP,LAY,ROW,COL), float32 VOC_INV(TSTEP,LAY,ROW,COL), float32 XYLMN(TSTEP,LAY,ROW,COL)\n",
      "    groups: \n"
     ]
    }
   ],
   "source": [
    "emis_file = ncf.Dataset(emis_files[1])\n",
    "a = emis_file['NO2'][:,0,all_grids_x,all_grids_y]\n",
    "print (a)"
   ]
  },
  {
   "cell_type": "code",
   "execution_count": 36,
   "metadata": {},
   "outputs": [
    {
     "data": {
      "text/plain": [
       "(130,)"
      ]
     },
     "execution_count": 36,
     "metadata": {},
     "output_type": "execute_result"
    }
   ],
   "source": [
    "all_grids_x.shape"
   ]
  },
  {
   "cell_type": "code",
   "execution_count": null,
   "metadata": {},
   "outputs": [],
   "source": []
  }
 ],
 "metadata": {
  "kernelspec": {
   "display_name": "Python 3",
   "language": "python",
   "name": "python3"
  },
  "language_info": {
   "codemirror_mode": {
    "name": "ipython",
    "version": 3
   },
   "file_extension": ".py",
   "mimetype": "text/x-python",
   "name": "python",
   "nbconvert_exporter": "python",
   "pygments_lexer": "ipython3",
   "version": "3.8.3"
  }
 },
 "nbformat": 4,
 "nbformat_minor": 4
}
